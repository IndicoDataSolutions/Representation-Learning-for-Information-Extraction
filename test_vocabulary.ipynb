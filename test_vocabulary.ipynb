{
 "cells": [
  {
   "cell_type": "code",
   "execution_count": 17,
   "metadata": {},
   "outputs": [],
   "source": [
    "from collections import Counter\n",
    "import warnings"
   ]
  },
  {
   "cell_type": "code",
   "execution_count": 63,
   "metadata": {},
   "outputs": [],
   "source": [
    "def is_number(word):\n",
    "    return word.replace('.','').replace(',','').isdecimal()"
   ]
  },
  {
   "cell_type": "code",
   "execution_count": 76,
   "metadata": {},
   "outputs": [],
   "source": [
    "class VocabularyBuilder():\n",
    "    def __init__(self, max_size = 512):\n",
    "        self._words_counter = Counter()\n",
    "        self.max_size = max_size\n",
    "        self._vocabulary = { '<PAD>':0, '<NUMBER>':1, '<RARE>':2 }\n",
    "        self.built = False\n",
    "        \n",
    "    def add(self, word):\n",
    "        if not is_number(word):\n",
    "            self._words_counter.update([word.lower()])\n",
    "            \n",
    "    def build(self):\n",
    "        for word, count in self._words_counter.most_common(self.max_size):\n",
    "            self._vocabulary[word] = len(self._vocabulary)\n",
    "        self.built = True\n",
    "        return self._vocabulary\n",
    "\n",
    "    def get_vocab(self):\n",
    "        if not self.built:\n",
    "            warnings.warn(\n",
    "                \"The vocabulary is not built. Use VocabularyBuilder.build(). Returning default vocabulary.\", Warning)\n",
    "            return self._vocabulary\n",
    "        else:\n",
    "            return self._vocabulary\n",
    "            "
   ]
  },
  {
   "cell_type": "code",
   "execution_count": 77,
   "metadata": {},
   "outputs": [],
   "source": [
    "vocab_b = VocabularyBuilder()"
   ]
  },
  {
   "cell_type": "code",
   "execution_count": 78,
   "metadata": {},
   "outputs": [],
   "source": [
    "vocab_b.add('12.3')"
   ]
  },
  {
   "cell_type": "code",
   "execution_count": 79,
   "metadata": {},
   "outputs": [
    {
     "data": {
      "text/plain": [
       "{'<PAD>': 0, '<NUMBER>': 1, '<RARE>': 2}"
      ]
     },
     "execution_count": 79,
     "metadata": {},
     "output_type": "execute_result"
    }
   ],
   "source": [
    "vocab_b.build()"
   ]
  },
  {
   "cell_type": "code",
   "execution_count": 80,
   "metadata": {},
   "outputs": [
    {
     "data": {
      "text/plain": [
       "{'<PAD>': 0, '<NUMBER>': 1, '<RARE>': 2}"
      ]
     },
     "execution_count": 80,
     "metadata": {},
     "output_type": "execute_result"
    }
   ],
   "source": [
    "vocab_b.get_vocab()"
   ]
  },
  {
   "cell_type": "code",
   "execution_count": 1,
   "metadata": {},
   "outputs": [],
   "source": [
    "from utils import vocabulary"
   ]
  },
  {
   "cell_type": "code",
   "execution_count": 2,
   "metadata": {},
   "outputs": [],
   "source": [
    "vb = vocabulary.VocabularyBuilder()"
   ]
  },
  {
   "cell_type": "code",
   "execution_count": 3,
   "metadata": {},
   "outputs": [],
   "source": [
    "vb.add(\"honda\")\n",
    "vb.add(\"1,23\")"
   ]
  },
  {
   "cell_type": "code",
   "execution_count": 4,
   "metadata": {},
   "outputs": [
    {
     "name": "stderr",
     "output_type": "stream",
     "text": [
      "/Users/tanmayvakare/Documents/projects/Representation-Learning-for-Information-Extraction/utils/vocabulary.py:29: Warning: The vocabulary is not built. Use VocabularyBuilder.build(). Returning default vocabulary.\n",
      "  \"The vocabulary is not built. Use VocabularyBuilder.build(). Returning default vocabulary.\", Warning)\n"
     ]
    },
    {
     "data": {
      "text/plain": [
       "{'<PAD>': 0, '<NUMBER>': 1, '<RARE>': 2}"
      ]
     },
     "execution_count": 4,
     "metadata": {},
     "output_type": "execute_result"
    }
   ],
   "source": [
    "vb.get_vocab()"
   ]
  },
  {
   "cell_type": "code",
   "execution_count": 5,
   "metadata": {},
   "outputs": [
    {
     "name": "stdout",
     "output_type": "stream",
     "text": [
      "Vocabulary of size 4 built!\n"
     ]
    },
    {
     "data": {
      "text/plain": [
       "{'<PAD>': 0, '<NUMBER>': 1, '<RARE>': 2, 'honda': 4}"
      ]
     },
     "execution_count": 5,
     "metadata": {},
     "output_type": "execute_result"
    }
   ],
   "source": [
    "vb.build()"
   ]
  },
  {
   "cell_type": "code",
   "execution_count": 6,
   "metadata": {},
   "outputs": [
    {
     "data": {
      "text/plain": [
       "{'<PAD>': 0, '<NUMBER>': 1, '<RARE>': 2, 'honda': 4}"
      ]
     },
     "execution_count": 6,
     "metadata": {},
     "output_type": "execute_result"
    }
   ],
   "source": [
    "vb.get_vocab()"
   ]
  },
  {
   "cell_type": "code",
   "execution_count": null,
   "metadata": {},
   "outputs": [],
   "source": []
  }
 ],
 "metadata": {
  "kernelspec": {
   "display_name": "Python 3",
   "language": "python",
   "name": "python3"
  },
  "language_info": {
   "codemirror_mode": {
    "name": "ipython",
    "version": 3
   },
   "file_extension": ".py",
   "mimetype": "text/x-python",
   "name": "python",
   "nbconvert_exporter": "python",
   "pygments_lexer": "ipython3",
   "version": "3.7.0"
  }
 },
 "nbformat": 4,
 "nbformat_minor": 4
}
