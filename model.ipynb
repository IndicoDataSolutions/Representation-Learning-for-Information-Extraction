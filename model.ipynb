{
 "cells": [
  {
   "cell_type": "code",
   "execution_count": 1,
   "metadata": {},
   "outputs": [],
   "source": [
    "import torch\n",
    "import torch.nn.functional as F\n",
    "from torch import nn\n",
    "import numpy as np"
   ]
  },
  {
   "cell_type": "code",
   "execution_count": 2,
   "metadata": {},
   "outputs": [],
   "source": [
    "device = torch.device('cuda:0' if torch.cuda.is_available() else 'cpu')"
   ]
  },
  {
   "cell_type": "code",
   "execution_count": null,
   "metadata": {},
   "outputs": [],
   "source": [
    "class NeighbourEmbedding(nn.Module):\n",
    "    \n",
    "    def __init__(self, vocab_size, dimension):\n",
    "        super().__init__()\n",
    "        \n",
    "        self.word_embed = nn.Embedding(vocab_size, dimension)\n",
    "        self.linear1 = nn.Linear(2, 128)\n",
    "        self.linear2 = nn.Linear(128, dimension)\n",
    "        self.dropout1 = nn.Dropout(0.5)\n",
    "        self.dropout2 = nn.Dropout(0.5)\n",
    "    \n",
    "    def forward(self, word, position):\n",
    "        \n",
    "        embedding = self.word_embed(word)\n",
    "        \n",
    "        pos = F.relu(self.linear1(position))\n",
    "        pos = self.dropout1(pos)\n",
    "        pos = F.relu(self.linear2(pos))\n",
    "        pos = self.dropout1(pos)\n",
    "        \n",
    "        concat = torch.cat((embedding, pos), dim=1)\n",
    "        \n",
    "        return concat"
   ]
  },
  {
   "cell_type": "code",
   "execution_count": null,
   "metadata": {},
   "outputs": [],
   "source": [
    "class Embedder(nn.Module):\n",
    "    \n",
    "    def __init__(self, vocab_size, dimension, neighbours):\n",
    "        super().__init__()\n",
    "        \n",
    "        self.neighbour_embeddings = []\n",
    "        self.neighbours = neighbours\n",
    "        for idx in range(self.neighbours):\n",
    "            self.neighbour_embeddings.append(NeighbourEmbedding(vocab_size, dimension))\n",
    "            \n",
    "    def forward(self, words, positions):\n",
    "        embedding_outputs = []\n",
    "        for idx in range(self.neighbours):\n",
    "            embedding_outputs.append(self.neighbour_embeddings[idx](words[idx], positions[idx]))\n",
    "        \n",
    "        return embedding_outputs"
   ]
  },
  {
   "cell_type": "code",
   "execution_count": null,
   "metadata": {},
   "outputs": [],
   "source": [
    "class Model(nn.Module):\n",
    "    \n",
    "    def __init__(self, vocab_size, embedding_dim):\n",
    "        super().__init__()\n",
    "        \n",
    "        # Field Embedding (Probably One hot encoded data)\n",
    "        \n",
    "        # Candidate Embedding Layer\n",
    "        # One dense layer\n",
    "        \n",
    "        # Neighbour Word Embedding and Positional Embedding\n",
    "        # Word Embedding - Embedding layer\n",
    "        # Positional Embedding - 2 blocks of (Dense, Relu, Dropout, Dense, Relu, Dropout)\n",
    "        # N number of Neighbours\n",
    "        \n",
    "        # Each neighbour goes through a Neighbour Encoding Attention layer of its own\n",
    "        \n",
    "        # All the neighbour encodings are concatenated together into one block\n",
    "        # This concatenated encoding is concatenated with Candidate Positon Encoding for Candidate Encoding\n",
    "        \n",
    "        # This candidate encoding is merged with Field Embedding and produces a binary output score\n",
    "        \n",
    "        self.cand_embed = nn.Linear(2, 128)\n",
    "        self.field_embed = nn.Linear(2, 128)\n",
    "        \n",
    "        self.neighbour_embeddings = Embedder(vocab_size, dimension, neighbours)\n",
    "        \n",
    "        \n",
    "    \n",
    "    def forward(self, neighbours, ):\n",
    "        pass"
   ]
  }
 ],
 "metadata": {
  "kernelspec": {
   "display_name": "Python 3",
   "language": "python",
   "name": "python3"
  },
  "language_info": {
   "codemirror_mode": {
    "name": "ipython",
    "version": 3
   },
   "file_extension": ".py",
   "mimetype": "text/x-python",
   "name": "python",
   "nbconvert_exporter": "python",
   "pygments_lexer": "ipython3",
   "version": "3.6.9"
  }
 },
 "nbformat": 4,
 "nbformat_minor": 4
}
